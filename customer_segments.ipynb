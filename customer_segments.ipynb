{
 "cells": [
  {
   "cell_type": "markdown",
   "metadata": {},
   "source": [
    "# Machine Learning Engineer Nanodegree\n",
    "## Unsupervised Learning\n",
    "## Project 3: Creating Customer Segments"
   ]
  },
  {
   "cell_type": "markdown",
   "metadata": {},
   "source": [
    "Welcome to the third project of the Machine Learning Engineer Nanodegree! In this notebook, some template code has already been provided for you, and it will be your job to implement the additional functionality necessary to successfully complete this project. Sections that begin with **'Implementation'** in the header indicate that the following block of code will require additional functionality which you must provide. Instructions will be provided for each section and the specifics of the implementation are marked in the code block with a `'TODO'` statement. Please be sure to read the instructions carefully!\n",
    "\n",
    "In addition to implementing code, there will be questions that you must answer which relate to the project and your implementation. Each section where you will answer a question is preceded by a **'Question X'** header. Carefully read each question and provide thorough answers in the following text boxes that begin with **'Answer:'**. Your project submission will be evaluated based on your answers to each of the questions and the implementation you provide.  \n",
    "\n",
    ">**Note:** Code and Markdown cells can be executed using the **Shift + Enter** keyboard shortcut. In addition, Markdown cells can be edited by typically double-clicking the cell to enter edit mode."
   ]
  },
  {
   "cell_type": "markdown",
   "metadata": {},
   "source": [
    "## Getting Started\n",
    "\n",
    "In this project, you will analyze a dataset containing data on various customers' annual spending amounts (reported in *monetary units*) of diverse product categories for internal structure. One goal of this project is to best describe the variation in the different types of customers that a wholesale distributor interacts with. Doing so would equip the distributor with insight into how to best structure their delivery service to meet the needs of each customer.\n",
    "\n",
    "The dataset for this project can be found on the [UCI Machine Learning Repository](https://archive.ics.uci.edu/ml/datasets/Wholesale+customers). For the purposes of this project, the features `'Channel'` and `'Region'` will be excluded in the analysis — with focus instead on the six product categories recorded for customers.\n",
    "\n",
    "Run the code block below to load the wholesale customers dataset, along with a few of the necessary Python libraries required for this project. You will know the dataset loaded successfully if the size of the dataset is reported."
   ]
  },
  {
   "cell_type": "code",
   "execution_count": 39,
   "metadata": {
    "collapsed": false
   },
   "outputs": [
    {
     "ename": "SyntaxError",
     "evalue": "Missing parentheses in call to 'print' (renders.py, line 86)",
     "output_type": "error",
     "traceback": [
      "\u001b[0;36m  File \u001b[0;32m\"/Users/mehdisalemi/Desktop/Machine Learning Udacity Nanodegree/Projects/Project 3/creating_customer_segments/renders.py\"\u001b[0;36m, line \u001b[0;32m86\u001b[0m\n\u001b[0;31m    print \"Dataset could not be loaded. Is the file missing?\"\u001b[0m\n\u001b[0m                                                            ^\u001b[0m\n\u001b[0;31mSyntaxError\u001b[0m\u001b[0;31m:\u001b[0m Missing parentheses in call to 'print'\n"
     ]
    }
   ],
   "source": [
    "# Import libraries necessary for this project\n",
    "import numpy as np\n",
    "import pandas as pd\n",
    "import renders as rs\n",
    "from IPython.display import display # Allows the use of display() for DataFrames\n",
    "\n",
    "# Show matplotlib plots inline (nicely formatted in the notebook)\n",
    "%matplotlib inline\n",
    "\n",
    "# Load the wholesale customers dataset\n",
    "# try:\n",
    "#     data = pd.read_csv(\"customers.csv\")\n",
    "#     data.drop(['Region', 'Channel'], axis = 1, inplace = True)\n",
    "#     print(\"Wholesale customers dataset has {} samples with {} features each.\".format(*data.shape))\n",
    "# except ValueError:\n",
    "#     print(\"Dataset could not be loaded. Is the dataset missing?\")"
   ]
  },
  {
   "cell_type": "code",
   "execution_count": 40,
   "metadata": {
    "collapsed": false
   },
   "outputs": [
    {
     "data": {
      "text/html": [
       "<div>\n",
       "<table border=\"1\" class=\"dataframe\">\n",
       "  <thead>\n",
       "    <tr style=\"text-align: right;\">\n",
       "      <th></th>\n",
       "      <th>Fresh</th>\n",
       "      <th>Milk</th>\n",
       "      <th>Grocery</th>\n",
       "      <th>Frozen</th>\n",
       "      <th>Detergents_Paper</th>\n",
       "      <th>Delicatessen</th>\n",
       "    </tr>\n",
       "  </thead>\n",
       "  <tbody>\n",
       "    <tr>\n",
       "      <th>0</th>\n",
       "      <td>12669</td>\n",
       "      <td>9656</td>\n",
       "      <td>7561</td>\n",
       "      <td>214</td>\n",
       "      <td>2674</td>\n",
       "      <td>1338</td>\n",
       "    </tr>\n",
       "  </tbody>\n",
       "</table>\n",
       "</div>"
      ],
      "text/plain": [
       "   Fresh  Milk  Grocery  Frozen  Detergents_Paper  Delicatessen\n",
       "0  12669  9656     7561     214              2674          1338"
      ]
     },
     "execution_count": 40,
     "metadata": {},
     "output_type": "execute_result"
    }
   ],
   "source": [
    "df = pd.read_csv(\"customers.csv\")\n",
    "df.drop(['Region', 'Channel'], axis = 1, inplace = True)\n",
    "df.head(1)"
   ]
  },
  {
   "cell_type": "markdown",
   "metadata": {},
   "source": [
    "## Data Exploration\n",
    "In this section, you will begin exploring the data through visualizations and code to understand how each feature is related to the others. You will observe a statistical description of the dataset, consider the relevance of each feature, and select a few sample data points from the dataset which you will track through the course of this project.\n",
    "\n",
    "Run the code block below to observe a statistical description of the dataset. Note that the dataset is composed of six important product categories: **'Fresh'**, **'Milk'**, **'Grocery'**, **'Frozen'**, **'Detergents_Paper'**, and **'Delicatessen'**. Consider what each category represents in terms of products you could purchase."
   ]
  },
  {
   "cell_type": "code",
   "execution_count": 41,
   "metadata": {
    "collapsed": false
   },
   "outputs": [
    {
     "data": {
      "text/html": [
       "<div>\n",
       "<table border=\"1\" class=\"dataframe\">\n",
       "  <thead>\n",
       "    <tr style=\"text-align: right;\">\n",
       "      <th></th>\n",
       "      <th>Fresh</th>\n",
       "      <th>Milk</th>\n",
       "      <th>Grocery</th>\n",
       "      <th>Frozen</th>\n",
       "      <th>Detergents_Paper</th>\n",
       "      <th>Delicatessen</th>\n",
       "    </tr>\n",
       "  </thead>\n",
       "  <tbody>\n",
       "    <tr>\n",
       "      <th>count</th>\n",
       "      <td>440.000000</td>\n",
       "      <td>440.000000</td>\n",
       "      <td>440.000000</td>\n",
       "      <td>440.000000</td>\n",
       "      <td>440.000000</td>\n",
       "      <td>440.000000</td>\n",
       "    </tr>\n",
       "    <tr>\n",
       "      <th>mean</th>\n",
       "      <td>12000.297727</td>\n",
       "      <td>5796.265909</td>\n",
       "      <td>7951.277273</td>\n",
       "      <td>3071.931818</td>\n",
       "      <td>2881.493182</td>\n",
       "      <td>1524.870455</td>\n",
       "    </tr>\n",
       "    <tr>\n",
       "      <th>std</th>\n",
       "      <td>12647.328865</td>\n",
       "      <td>7380.377175</td>\n",
       "      <td>9503.162829</td>\n",
       "      <td>4854.673333</td>\n",
       "      <td>4767.854448</td>\n",
       "      <td>2820.105937</td>\n",
       "    </tr>\n",
       "    <tr>\n",
       "      <th>min</th>\n",
       "      <td>3.000000</td>\n",
       "      <td>55.000000</td>\n",
       "      <td>3.000000</td>\n",
       "      <td>25.000000</td>\n",
       "      <td>3.000000</td>\n",
       "      <td>3.000000</td>\n",
       "    </tr>\n",
       "    <tr>\n",
       "      <th>25%</th>\n",
       "      <td>3127.750000</td>\n",
       "      <td>1533.000000</td>\n",
       "      <td>2153.000000</td>\n",
       "      <td>742.250000</td>\n",
       "      <td>256.750000</td>\n",
       "      <td>408.250000</td>\n",
       "    </tr>\n",
       "    <tr>\n",
       "      <th>50%</th>\n",
       "      <td>8504.000000</td>\n",
       "      <td>3627.000000</td>\n",
       "      <td>4755.500000</td>\n",
       "      <td>1526.000000</td>\n",
       "      <td>816.500000</td>\n",
       "      <td>965.500000</td>\n",
       "    </tr>\n",
       "    <tr>\n",
       "      <th>75%</th>\n",
       "      <td>16933.750000</td>\n",
       "      <td>7190.250000</td>\n",
       "      <td>10655.750000</td>\n",
       "      <td>3554.250000</td>\n",
       "      <td>3922.000000</td>\n",
       "      <td>1820.250000</td>\n",
       "    </tr>\n",
       "    <tr>\n",
       "      <th>max</th>\n",
       "      <td>112151.000000</td>\n",
       "      <td>73498.000000</td>\n",
       "      <td>92780.000000</td>\n",
       "      <td>60869.000000</td>\n",
       "      <td>40827.000000</td>\n",
       "      <td>47943.000000</td>\n",
       "    </tr>\n",
       "  </tbody>\n",
       "</table>\n",
       "</div>"
      ],
      "text/plain": [
       "               Fresh          Milk       Grocery        Frozen  \\\n",
       "count     440.000000    440.000000    440.000000    440.000000   \n",
       "mean    12000.297727   5796.265909   7951.277273   3071.931818   \n",
       "std     12647.328865   7380.377175   9503.162829   4854.673333   \n",
       "min         3.000000     55.000000      3.000000     25.000000   \n",
       "25%      3127.750000   1533.000000   2153.000000    742.250000   \n",
       "50%      8504.000000   3627.000000   4755.500000   1526.000000   \n",
       "75%     16933.750000   7190.250000  10655.750000   3554.250000   \n",
       "max    112151.000000  73498.000000  92780.000000  60869.000000   \n",
       "\n",
       "       Detergents_Paper  Delicatessen  \n",
       "count        440.000000    440.000000  \n",
       "mean        2881.493182   1524.870455  \n",
       "std         4767.854448   2820.105937  \n",
       "min            3.000000      3.000000  \n",
       "25%          256.750000    408.250000  \n",
       "50%          816.500000    965.500000  \n",
       "75%         3922.000000   1820.250000  \n",
       "max        40827.000000  47943.000000  "
      ]
     },
     "execution_count": 41,
     "metadata": {},
     "output_type": "execute_result"
    }
   ],
   "source": [
    "# Display a description of the dataset\n",
    "df.describe()"
   ]
  },
  {
   "cell_type": "markdown",
   "metadata": {},
   "source": [
    "### Implementation: Selecting Samples\n",
    "To get a better understanding of the customers and how their data will transform through the analysis, it would be best to select a few sample data points and explore them in more detail. In the code block below, add **three** indices of your choice to the `indices` list which will represent the customers to track. It is suggested to try different sets of samples until you obtain customers that vary significantly from one another."
   ]
  },
  {
   "cell_type": "code",
   "execution_count": 42,
   "metadata": {
    "collapsed": false
   },
   "outputs": [
    {
     "name": "stdout",
     "output_type": "stream",
     "text": [
      "Chosen samples of wholesale customers dataset:\n"
     ]
    },
    {
     "data": {
      "text/html": [
       "<div>\n",
       "<table border=\"1\" class=\"dataframe\">\n",
       "  <thead>\n",
       "    <tr style=\"text-align: right;\">\n",
       "      <th></th>\n",
       "      <th>Fresh</th>\n",
       "      <th>Milk</th>\n",
       "      <th>Grocery</th>\n",
       "      <th>Frozen</th>\n",
       "      <th>Detergents_Paper</th>\n",
       "      <th>Delicatessen</th>\n",
       "    </tr>\n",
       "  </thead>\n",
       "  <tbody>\n",
       "    <tr>\n",
       "      <th>0</th>\n",
       "      <td>12669</td>\n",
       "      <td>9656</td>\n",
       "      <td>7561</td>\n",
       "      <td>214</td>\n",
       "      <td>2674</td>\n",
       "      <td>1338</td>\n",
       "    </tr>\n",
       "    <tr>\n",
       "      <th>1</th>\n",
       "      <td>12205</td>\n",
       "      <td>12697</td>\n",
       "      <td>28540</td>\n",
       "      <td>869</td>\n",
       "      <td>12034</td>\n",
       "      <td>1009</td>\n",
       "    </tr>\n",
       "    <tr>\n",
       "      <th>2</th>\n",
       "      <td>9658</td>\n",
       "      <td>2182</td>\n",
       "      <td>1909</td>\n",
       "      <td>5639</td>\n",
       "      <td>215</td>\n",
       "      <td>323</td>\n",
       "    </tr>\n",
       "  </tbody>\n",
       "</table>\n",
       "</div>"
      ],
      "text/plain": [
       "   Fresh   Milk  Grocery  Frozen  Detergents_Paper  Delicatessen\n",
       "0  12669   9656     7561     214              2674          1338\n",
       "1  12205  12697    28540     869             12034          1009\n",
       "2   9658   2182     1909    5639               215           323"
      ]
     },
     "execution_count": 42,
     "metadata": {},
     "output_type": "execute_result"
    }
   ],
   "source": [
    "# TODO: Select three indices of your choice you wish to sample from the dataset\n",
    "indices = [0,77,99]\n",
    "\n",
    "# Create a DataFrame of the chosen samples\n",
    "df_samples = pd.DataFrame(df.loc[indices], columns = df.keys()).reset_index(drop = True)\n",
    "print(\"Chosen samples of wholesale customers dataset:\")\n",
    "df_samples"
   ]
  },
  {
   "cell_type": "markdown",
   "metadata": {},
   "source": [
    "### Question 1\n",
    "Consider the total purchase cost of each product category and the statistical description of the dataset above for your sample customers.  \n",
    "*What kind of establishment (customer) could each of the three samples you've chosen represent?*  \n",
    "**Hint:** Examples of establishments include places like markets, cafes, and retailers, among many others. Avoid using names for establishments, such as saying *\"McDonalds\"* when describing a sample customer as a restaurant."
   ]
  },
  {
   "cell_type": "code",
   "execution_count": 43,
   "metadata": {
    "collapsed": false
   },
   "outputs": [
    {
     "name": "stdout",
     "output_type": "stream",
     "text": [
      "Fresh               37.139423\n",
      "Milk                28.306754\n",
      "Grocery             22.165220\n",
      "Frozen               0.627345\n",
      "Detergents_Paper     7.838884\n",
      "Delicatessen         3.922373\n",
      "Name: 0, dtype: float64\n",
      "Fresh               18.120676\n",
      "Milk                18.851145\n",
      "Grocery             42.373133\n",
      "Frozen               1.290198\n",
      "Detergents_Paper    17.866793\n",
      "Delicatessen         1.498055\n",
      "Name: 1, dtype: float64\n",
      "Fresh               48.469337\n",
      "Milk                10.950517\n",
      "Grocery              9.580448\n",
      "Frozen              28.299709\n",
      "Detergents_Paper     1.078992\n",
      "Delicatessen         1.620998\n",
      "Name: 2, dtype: float64\n"
     ]
    }
   ],
   "source": [
    "for index, row in df_samples.iterrows():\n",
    "    print(df_samples.iloc[index] / df_samples.sum(axis=1)[index] *100)"
   ]
  },
  {
   "cell_type": "markdown",
   "metadata": {},
   "source": [
    "**Answer:**\n",
    "Based on the above results, which show what percent of the spending for the customer was spent on which product cateogry, it gives use some intuition about what type of store the customer is. \n",
    "\n",
    "For the first sample, it is clear that this customers spends the majority on  Fresh, Milk, Grocery, but also spend a small amount on Frozen and Deteregents_Papper, which indicated that this customer is likely a coffee shop or cafe.\n",
    "\n",
    "For the second sample, the majority is spent on Grocery(42% of total), but also alot spent on Fresh, Milk, Detergent (all around 17-18% of total). This is likely that this customer is a grocery store. \n",
    "\n",
    "For the third sample the majority is spent on fresh(48%), with alot spent on Frozen(28%) and Milk (10%). This place would likely be a grocery store or market. "
   ]
  },
  {
   "cell_type": "markdown",
   "metadata": {},
   "source": [
    "### Implementation: Feature Relevance\n",
    "One interesting thought to consider is if one (or more) of the six product categories is actually relevant for understanding customer purchasing. That is to say, is it possible to determine whether customers purchasing some amount of one category of products will necessarily purchase some proportional amount of another category of products? We can make this determination quite easily by training a supervised regression learner on a subset of the data with one feature removed, and then score how well that model can predict the removed feature.\n",
    "\n",
    "In the code block below, you will need to implement the following:\n",
    " - Assign `new_data` a copy of the data by removing a feature of your choice using the `DataFrame.drop` function.\n",
    " - Use `sklearn.cross_validation.train_test_split` to split the dataset into training and testing sets.\n",
    "   - Use the removed feature as your target label. Set a `test_size` of `0.25` and set a `random_state`.\n",
    " - Import a decision tree regressor, set a `random_state`, and fit the learner to the training data.\n",
    " - Report the prediction score of the testing set using the regressor's `score` function."
   ]
  },
  {
   "cell_type": "code",
   "execution_count": 44,
   "metadata": {
    "collapsed": false
   },
   "outputs": [
    {
     "name": "stdout",
     "output_type": "stream",
     "text": [
      "-0.278249148824\n"
     ]
    }
   ],
   "source": [
    "# TODO: Make a copy of the DataFrame, using the 'drop' function to drop the given feature\n",
    "X = new_data = df.drop(['Frozen'], axis = 1)\n",
    "y = df['Frozen']\n",
    "\n",
    "# TODO: Split the data into training and testing sets using the given feature as the target\n",
    "from sklearn.cross_validation import train_test_split\n",
    "X_train, X_test, y_train, y_test = train_test_split(X,y, test_size=0.25, random_state=42)\n",
    "\n",
    "# TODO: Create a decision tree regressor and fit it to the training set\n",
    "from sklearn.tree import DecisionTreeRegressor\n",
    "regressor = DecisionTreeRegressor(random_state=0)\n",
    "regressor.fit(X_train,y_train)\n",
    "\n",
    "# TODO: Report the score of the prediction using the testing set\n",
    "score = regressor.score(X_test,y_test)\n",
    "print(score)"
   ]
  },
  {
   "cell_type": "code",
   "execution_count": 45,
   "metadata": {
    "collapsed": false
   },
   "outputs": [
    {
     "name": "stdout",
     "output_type": "stream",
     "text": [
      "Fresh\n",
      "Milk\n",
      "Grocery\n",
      "Frozen\n",
      "Detergents_Paper\n",
      "Delicatessen\n"
     ]
    }
   ],
   "source": [
    "for columnName in df.columns.values:\n",
    "    print(columnName)"
   ]
  },
  {
   "cell_type": "markdown",
   "metadata": {},
   "source": [
    "### Question 2\n",
    "*Which feature did you attempt to predict? What was the reported prediction score? Is this feature is necessary for identifying customers' spending habits?*  \n",
    "**Hint:** The coefficient of determination, `R^2`, is scored between 0 and 1, with 1 being a perfect fit. A negative `R^2` implies the model fails to fit the data."
   ]
  },
  {
   "cell_type": "markdown",
   "metadata": {},
   "source": [
    "**Answer:**\n",
    "I chose the feature of frozen because intuitivly I thought that if a customer purchased fresh or groceries, thier buying of frozen would be low. But the score is approximately -0.27, which indicates that this does not fit the data well. Other models should be looked, as this one does not fit the model well. \n",
    "\n",
    "The F1 Score of Frozen, indicated that this is NOT a relevant feature for out examination. Below I quickly got F1 Scores for other features to see which feature I should have chossen.  "
   ]
  },
  {
   "cell_type": "code",
   "execution_count": 46,
   "metadata": {
    "collapsed": true
   },
   "outputs": [],
   "source": [
    "def checkF1():\n",
    "    for feature in df.columns.values:\n",
    "        X = new_data = df.drop([feature], axis = 1)\n",
    "        y = df[feature]\n",
    "\n",
    "        # TODO: Split the data into training and testing sets using the given feature as the target\n",
    "        from sklearn.cross_validation import train_test_split\n",
    "        X_train, X_test, y_train, y_test = train_test_split(X,y, test_size=0.25, random_state=42)\n",
    "\n",
    "        # TODO: Create a decision tree regressor and fit it to the training set\n",
    "        from sklearn.tree import DecisionTreeRegressor\n",
    "        regressor = DecisionTreeRegressor(random_state=0)\n",
    "        regressor.fit(X_train,y_train)\n",
    "\n",
    "        # TODO: Report the score of the prediction using the testing set\n",
    "        score = regressor.score(X_test,y_test)\n",
    "        print(\"Feature: \", feature, \" F1 Score: \", score)"
   ]
  },
  {
   "cell_type": "code",
   "execution_count": 47,
   "metadata": {
    "collapsed": false
   },
   "outputs": [
    {
     "name": "stdout",
     "output_type": "stream",
     "text": [
      "Feature:  Fresh  F1 Score:  -0.333070533605\n",
      "Feature:  Milk  F1 Score:  0.173438009379\n",
      "Feature:  Grocery  F1 Score:  0.699248196675\n",
      "Feature:  Frozen  F1 Score:  -0.278249148824\n",
      "Feature:  Detergents_Paper  F1 Score:  0.348777454691\n",
      "Feature:  Delicatessen  F1 Score:  -11.0236279005\n"
     ]
    }
   ],
   "source": [
    "checkF1()"
   ]
  },
  {
   "cell_type": "markdown",
   "metadata": {},
   "source": [
    "By looking at the above results, we can see that Grocery, Detergents, Milk are all good features too look at, while Fresh, Frozen and Delicateseen are not so great. "
   ]
  },
  {
   "cell_type": "markdown",
   "metadata": {},
   "source": [
    "### Visualize Feature Distributions\n",
    "To get a better understanding of the dataset, we can construct a scatter matrix of each of the six product features present in the data. If you found that the feature you attempted to predict above is relevant for identifying a specific customer, then the scatter matrix below may not show any correlation between that feature and the others. Conversely, if you believe that feature is not relevant for identifying a specific customer, the scatter matrix might show a correlation between that feature and another feature in the data. Run the code block below to produce a scatter matrix."
   ]
  },
  {
   "cell_type": "code",
   "execution_count": 48,
   "metadata": {
    "collapsed": false
   },
   "outputs": [],
   "source": [
    "# Produce a scatter matrix for each pair of features in the data\n",
    "pd.scatter_matrix(df, alpha = 0.3, figsize = (14,8), diagonal = 'kde');"
   ]
  },
  {
   "cell_type": "markdown",
   "metadata": {},
   "source": [
    "### Question 3\n",
    "*Are there any pairs of features which exhibit some degree of correlation? Does this confirm or deny your suspicions about the relevance of the feature you attempted to predict? How is the data for those features distributed?*  \n",
    "**Hint:** Is the data normally distributed? Where do most of the data points lie? "
   ]
  },
  {
   "cell_type": "markdown",
   "metadata": {},
   "source": [
    "**Answer:**\n",
    "My initial prediction was off, and this seems like Grocery and detergence_papper are the lesat correlated with one another.  The dist for all 6 features seems skewed to the right. Alot of the data is close to 0 if you ignore the outliers, if we remove outliers, we could consider it normal."
   ]
  },
  {
   "cell_type": "markdown",
   "metadata": {},
   "source": [
    "## Data Preprocessing\n",
    "In this section, you will preprocess the data to create a better representation of customers by performing a scaling on the data and detecting (and optionally removing) outliers. Preprocessing data is often times a critical step in assuring that results you obtain from your analysis are significant and meaningful."
   ]
  },
  {
   "cell_type": "markdown",
   "metadata": {},
   "source": [
    "### Implementation: Feature Scaling\n",
    "If data is not normally distributed, especially if the mean and median vary significantly (indicating a large skew), it is most [often appropriate](http://econbrowser.com/archives/2014/02/use-of-logarithms-in-economics) to apply a non-linear scaling — particularly for financial data. One way to achieve this scaling is by using a [Box-Cox test](http://scipy.github.io/devdocs/generated/scipy.stats.boxcox.html), which calculates the best power transformation of the data that reduces skewness. A simpler approach which can work in most cases would be applying the natural logarithm.\n",
    "\n",
    "In the code block below, you will need to implement the following:\n",
    " - Assign a copy of the data to `log_data` after applying a logarithm scaling. Use the `np.log` function for this.\n",
    " - Assign a copy of the sample data to `log_samples` after applying a logrithm scaling. Again, use `np.log`."
   ]
  },
  {
   "cell_type": "code",
   "execution_count": 49,
   "metadata": {
    "collapsed": false
   },
   "outputs": [],
   "source": [
    "# TODO: Scale the data using the natural logarithm\n",
    "log_data = np.log(df)\n",
    "\n",
    "# TODO: Scale the sample data using the natural logarithm\n",
    "log_samples = np.log(df_samples)\n",
    "\n",
    "# Produce a scatter matrix for each pair of newly-transformed features\n",
    "pd.scatter_matrix(log_data, alpha = 0.3, figsize = (14,8), diagonal = 'kde');"
   ]
  },
  {
   "cell_type": "code",
   "execution_count": null,
   "metadata": {
    "collapsed": true
   },
   "outputs": [],
   "source": []
  },
  {
   "cell_type": "markdown",
   "metadata": {},
   "source": [
    "### Observation\n",
    "After applying a natural logarithm scaling to the data, the distribution of each feature should appear much more normal. For any pairs of features you may have identified earlier as being correlated, observe here whether that correlation is still present (and whether it is now stronger or weaker than before).\n",
    "\n",
    "Run the code below to see how the sample data has changed after having the natural logarithm applied to it."
   ]
  },
  {
   "cell_type": "code",
   "execution_count": 50,
   "metadata": {
    "collapsed": false
   },
   "outputs": [
    {
     "name": "stdout",
     "output_type": "stream",
     "text": [
      "      Fresh      Milk    Grocery    Frozen  Detergents_Paper  Delicatessen\n",
      "0  9.446913  9.175335   8.930759  5.365976          7.891331      7.198931\n",
      "1  9.409601  9.449121  10.259062  6.767343          9.395491      6.916715\n",
      "2  9.175542  7.687997   7.554335  8.637462          5.370638      5.777652\n"
     ]
    }
   ],
   "source": [
    "# Display the log-transformed sample data\n",
    "print(log_samples)"
   ]
  },
  {
   "cell_type": "markdown",
   "metadata": {},
   "source": [
    "### Implementation: Outlier Detection\n",
    "Detecting outliers in the data is extremely important in the data preprocessing step of any analysis. The presence of outliers can often skew results which take into consideration these data points. There are many \"rules of thumb\" for what constitutes an outlier in a dataset. Here, we will use [Tukey's Method for identfying outliers](http://datapigtechnologies.com/blog/index.php/highlighting-outliers-in-your-data-with-the-tukey-method/): An *outlier step* is calculated as 1.5 times the interquartile range (IQR). A data point with a feature that is beyond an outlier step outside of the IQR for that feature is considered abnormal.\n",
    "\n",
    "In the code block below, you will need to implement the following:\n",
    " - Assign the value of the 25th percentile for the given feature to `Q1`. Use `np.percentile` for this.\n",
    " - Assign the value of the 75th percentile for the given feature to `Q3`. Again, use `np.percentile`.\n",
    " - Assign the calculation of an outlier step for the given feature to `step`.\n",
    " - Optionally remove data points from the dataset by adding indices to the `outliers` list.\n",
    "\n",
    "**NOTE:** If you choose to remove any outliers, ensure that the sample data does not contain any of these points!  \n",
    "Once you have performed this implementation, the dataset will be stored in the variable `good_data`."
   ]
  },
  {
   "cell_type": "code",
   "execution_count": 51,
   "metadata": {
    "collapsed": false
   },
   "outputs": [
    {
     "name": "stdout",
     "output_type": "stream",
     "text": [
      "Fresh\n",
      "Q1\n",
      "8.04805870221\n",
      "Q3\n",
      "9.73706394795\n",
      "Step\n",
      "2.53350786861\n",
      "Data points considered outliers for the feature 'Fresh':\n",
      "        Fresh       Milk    Grocery    Frozen  Detergents_Paper  Delicatessen\n",
      "65   4.442651   9.950323  10.732651  3.583519         10.095388      7.260523\n",
      "66   2.197225   7.335634   8.911530  5.164786          8.151333      3.295837\n",
      "81   5.389072   9.163249   9.575192  5.645447          8.964184      5.049856\n",
      "95   1.098612   7.979339   8.740657  6.086775          5.407172      6.563856\n",
      "96   3.135494   7.869402   9.001839  4.976734          8.262043      5.379897\n",
      "128  4.941642   9.087834   8.248791  4.955827          6.967909      1.098612\n",
      "171  5.298317  10.160530   9.894245  6.478510          9.079434      8.740337\n",
      "193  5.192957   8.156223   9.917982  6.865891          8.633731      6.501290\n",
      "218  2.890372   8.923191   9.629380  7.158514          8.475746      8.759669\n",
      "304  5.081404   8.917311  10.117510  6.424869          9.374413      7.787382\n",
      "305  5.493061   9.468001   9.088399  6.683361          8.271037      5.351858\n",
      "338  1.098612   5.808142   8.856661  9.655090          2.708050      6.309918\n",
      "353  4.762174   8.742574   9.961898  5.429346          9.069007      7.013016\n",
      "355  5.247024   6.588926   7.606885  5.501258          5.214936      4.844187\n",
      "357  3.610918   7.150701  10.011086  4.919981          8.816853      4.700480\n",
      "412  4.574711   8.190077   9.425452  4.584967          7.996317      4.127134\n",
      "Milk\n",
      "Q1\n",
      "7.33498124004\n",
      "Q3\n",
      "8.88048008859\n",
      "Step\n",
      "2.31824827282\n",
      "Data points considered outliers for the feature 'Milk':\n",
      "         Fresh       Milk    Grocery    Frozen  Detergents_Paper  Delicatessen\n",
      "86   10.039983  11.205013  10.377047  6.894670          9.906981      6.805723\n",
      "98    6.220590   4.718499   6.656727  6.796824          4.025352      4.882802\n",
      "154   6.432940   4.007333   4.919981  4.317488          1.945910      2.079442\n",
      "356  10.029503   4.897840   5.384495  8.057377          2.197225      6.306275\n",
      "Grocery\n",
      "Q1\n",
      "7.67461620137\n",
      "Q3\n",
      "9.27385367724\n",
      "Step\n",
      "2.3988562138\n",
      "Data points considered outliers for the feature 'Grocery':\n",
      "        Fresh      Milk   Grocery    Frozen  Detergents_Paper  Delicatessen\n",
      "75   9.923192  7.036148  1.098612  8.390949          1.098612      6.882437\n",
      "154  6.432940  4.007333  4.919981  4.317488          1.945910      2.079442\n",
      "Frozen\n",
      "Q1\n",
      "6.60967774917\n",
      "Q3\n",
      "8.17589608318\n",
      "Step\n",
      "2.34932750101\n",
      "Data points considered outliers for the feature 'Frozen':\n",
      "         Fresh      Milk    Grocery     Frozen  Detergents_Paper  Delicatessen\n",
      "38    8.431853  9.663261   9.723703   3.496508          8.847360      6.070738\n",
      "57    8.597297  9.203618   9.257892   3.637586          8.932213      7.156177\n",
      "65    4.442651  9.950323  10.732651   3.583519         10.095388      7.260523\n",
      "145  10.000569  9.034080  10.457143   3.737670          9.440738      8.396155\n",
      "175   7.759187  8.967632   9.382106   3.951244          8.341887      7.436617\n",
      "264   6.978214  9.177714   9.645041   4.110874          8.696176      7.142827\n",
      "325  10.395650  9.728181   9.519735  11.016479          7.148346      8.632128\n",
      "420   8.402007  8.569026   9.490015   3.218876          8.827321      7.239215\n",
      "429   9.060331  7.467371   8.183118   3.850148          4.430817      7.824446\n",
      "439   7.932721  7.437206   7.828038   4.174387          6.167516      3.951244\n",
      "Detergents_Paper\n",
      "Q1\n",
      "5.54810142479\n",
      "Q3\n",
      "8.27434059875\n",
      "Step\n",
      "4.08935876094\n",
      "Data points considered outliers for the feature 'Detergents_Paper':\n",
      "        Fresh      Milk   Grocery    Frozen  Detergents_Paper  Delicatessen\n",
      "75   9.923192  7.036148  1.098612  8.390949          1.098612      6.882437\n",
      "161  9.428190  6.291569  5.645447  6.995766          1.098612      7.711101\n",
      "Delicatessen\n",
      "Q1\n",
      "6.01187465693\n",
      "Q3\n",
      "7.50672842655\n",
      "Step\n",
      "2.24228065442\n",
      "Data points considered outliers for the feature 'Delicatessen':\n",
      "         Fresh       Milk    Grocery     Frozen  Detergents_Paper  \\\n",
      "66    2.197225   7.335634   8.911530   5.164786          8.151333   \n",
      "109   7.248504   9.724899  10.274568   6.511745          6.728629   \n",
      "128   4.941642   9.087834   8.248791   4.955827          6.967909   \n",
      "137   8.034955   8.997147   9.021840   6.493754          6.580639   \n",
      "142  10.519646   8.875147   9.018332   8.004700          2.995732   \n",
      "154   6.432940   4.007333   4.919981   4.317488          1.945910   \n",
      "183  10.514529  10.690808   9.911952  10.505999          5.476464   \n",
      "184   5.789960   6.822197   8.457443   4.304065          5.811141   \n",
      "187   7.798933   8.987447   9.192075   8.743372          8.148735   \n",
      "203   6.368187   6.529419   7.703459   6.150603          6.860664   \n",
      "233   6.871091   8.513988   8.106515   6.842683          6.013715   \n",
      "285  10.602965   6.461468   8.188689   6.948897          6.077642   \n",
      "289  10.663966   5.655992   6.154858   7.235619          3.465736   \n",
      "343   7.431892   8.848509  10.177932   7.283448          9.646593   \n",
      "\n",
      "     Delicatessen  \n",
      "66       3.295837  \n",
      "109      1.098612  \n",
      "128      1.098612  \n",
      "137      3.583519  \n",
      "142      1.098612  \n",
      "154      2.079442  \n",
      "183     10.777768  \n",
      "184      2.397895  \n",
      "187      1.098612  \n",
      "203      2.890372  \n",
      "233      1.945910  \n",
      "285      2.890372  \n",
      "289      3.091042  \n",
      "343      3.610918  \n",
      "[]\n"
     ]
    }
   ],
   "source": [
    "# For each feature find the data points with extreme high or low values\n",
    "\n",
    "outliers = []\n",
    "\n",
    "for feature in log_data.keys():\n",
    "    print(feature)\n",
    "    # TODO: Calculate Q1 (25th percentile of the data) for the given feature\n",
    "    Q1 = np.percentile(log_data[feature], 25)\n",
    "    print('Q1') \n",
    "    print(Q1)\n",
    "    \n",
    "    # TODO: Calculate Q3 (75th percentile of the data) for the given feature\n",
    "    Q3 = np.percentile(log_data[feature], 75)\n",
    "    print('Q3') \n",
    "    print(Q3)\n",
    "    \n",
    "    # TODO: Use the interquartile range to calculate an outlier step (1.5 times the interquartile range)\n",
    "    step = 1.5*(Q3 - Q1)\n",
    "    print('Step')\n",
    "    print(step)\n",
    "    \n",
    "    overRange = log_data[feature] > (Q3+step)\n",
    "    underRange = log_data[feature] < (Q1-step)\n",
    "    outlier_in_feature = log_data[underRange | overRange]\n",
    "    \n",
    "    # Display the outliers\n",
    "    print(\"Data points considered outliers for the feature '{}':\".format(feature))\n",
    "    print(outlier_in_feature)\n",
    "    \n",
    "    for index, row in outlier_in_feature.iterrows():\n",
    "        outliers.append(index)\n",
    "    \n",
    "# OPTIONAL: Select the indices for data points you wish to remove\n",
    "from itertools import groupby\n",
    "\n",
    "#### Test to check for Dupliacate Outliers\n",
    "\n",
    "# print(\"Duplicate Check\")\n",
    "# x = [1,2,2,2,3,4,5,6,6,7]\n",
    "# print([key for key,group in groupby(x) if len(list(group)) > 1])\n",
    "\n",
    "#### Done Test\n",
    "\n",
    "print([key for key,group in groupby(outliers) if len(list(group)) > 1])\n",
    "\n",
    "#outliers = np.unique(outliers)\n",
    "\n",
    "\n",
    "# Remove the outliers, if any were specified\n",
    "good_data = log_data.drop(log_data.index[outliers]).reset_index(drop = True)"
   ]
  },
  {
   "cell_type": "markdown",
   "metadata": {
    "collapsed": false
   },
   "source": [
    "### Question 4\n",
    "*Are there any data points considered outliers for more than one feature based on the definition above? Should these data points be removed from the dataset? If any data points were added to the `outliers` list to be removed, explain why.* "
   ]
  },
  {
   "cell_type": "markdown",
   "metadata": {},
   "source": [
    "**Answer:**\n",
    "Based on the information in the question given, outliers were removed based on the the step. Took the 75th interquartile range and the 25th interquartile range diffence, and times it by 1.5 , if any data points per feature were outside of this range, they were removed from the data set as they are considerd outliers, and might affect this excercise negatievly.\n",
    "\n",
    "I have chosen to remove outliers, that are not duplicates. Since I found none in the data set, I just removed ALL the outliers. My intuiition in NOT to remove the duplicate outliers, is that if a outlier was seen twice or more, then it is not an outlier, but is really a true point that would be seen by data set. "
   ]
  },
  {
   "cell_type": "markdown",
   "metadata": {},
   "source": [
    "## Feature Transformation\n",
    "In this section you will use principal component analysis (PCA) to draw conclusions about the underlying structure of the wholesale customer data. Since using PCA on a dataset calculates the dimensions which best maximize variance, we will find which compound combinations of features best describe customers."
   ]
  },
  {
   "cell_type": "markdown",
   "metadata": {
    "collapsed": false
   },
   "source": [
    "### Implementation: PCA\n",
    "\n",
    "Now that the data has been scaled to a more normal distribution and has had any necessary outliers removed, we can now apply PCA to the `good_data` to discover which dimensions about the data best maximize the variance of features involved. In addition to finding these dimensions, PCA will also report the *explained variance ratio* of each dimension — how much variance within the data is explained by that dimension alone. Note that a component (dimension) from PCA can be considered a new \"feature\" of the space, however it is a composition of the original features present in the data.\n",
    "\n",
    "In the code block below, you will need to implement the following:\n",
    " - Import `sklearn.decomposition.PCA` and assign the results of fitting PCA in six dimensions with `good_data` to `pca`.\n",
    " - Apply a PCA transformation of the sample log-data `log_samples` using `pca.transform`, and assign the results to `pca_samples`."
   ]
  },
  {
   "cell_type": "code",
   "execution_count": 52,
   "metadata": {
    "collapsed": false
   },
   "outputs": [
    {
     "name": "stdout",
     "output_type": "stream",
     "text": [
      "[ 0.49930484  0.22594807  0.10488309  0.09781761  0.04879109  0.0232553 ]\n"
     ]
    },
    {
     "ename": "NameError",
     "evalue": "name 'rs' is not defined",
     "output_type": "error",
     "traceback": [
      "\u001b[0;31m---------------------------------------------------------------------------\u001b[0m",
      "\u001b[0;31mNameError\u001b[0m                                 Traceback (most recent call last)",
      "\u001b[0;32m<ipython-input-52-564667bbbb95>\u001b[0m in \u001b[0;36m<module>\u001b[0;34m()\u001b[0m\n\u001b[1;32m      9\u001b[0m \u001b[0;34m\u001b[0m\u001b[0m\n\u001b[1;32m     10\u001b[0m \u001b[0;31m# Generate PCA results plot\u001b[0m\u001b[0;34m\u001b[0m\u001b[0;34m\u001b[0m\u001b[0m\n\u001b[0;32m---> 11\u001b[0;31m \u001b[0mpca_results\u001b[0m \u001b[0;34m=\u001b[0m \u001b[0mrs\u001b[0m\u001b[0;34m.\u001b[0m\u001b[0mpca_results\u001b[0m\u001b[0;34m(\u001b[0m\u001b[0mgood_data\u001b[0m\u001b[0;34m,\u001b[0m \u001b[0mpca\u001b[0m\u001b[0;34m)\u001b[0m\u001b[0;34m\u001b[0m\u001b[0m\n\u001b[0m",
      "\u001b[0;31mNameError\u001b[0m: name 'rs' is not defined"
     ]
    }
   ],
   "source": [
    "from sklearn.decomposition import PCA\n",
    "# TODO: Apply PCA by fitting the good data with the same number of dimensions as features\n",
    "pca = PCA(n_components = 6)\n",
    "pca.fit(good_data)\n",
    "\n",
    "# TODO: Transform the sample log-data using the PCA fit above\n",
    "pca_samples = pca.transform(log_samples)\n",
    "print(pca.explained_variance_ratio_)\n",
    "\n",
    "# Generate PCA results plot\n",
    "pca_results = rs.pca_results(good_data, pca)"
   ]
  },
  {
   "cell_type": "markdown",
   "metadata": {
    "collapsed": false
   },
   "source": [
    "### Question 5\n",
    "*How much variance in the data is explained* ***in total*** *by the first and second principal component? What about the first four principal components? Using the visualization provided above, discuss what the first four dimensions best represent in terms of customer spending.*  \n",
    "**Hint:** A positive increase in a specific dimension corresponds with an *increase* of the *positive-weighted* features and a *decrease* of the *negative-weighted* features. The rate of increase or decrease is based on the indivdual feature weights."
   ]
  },
  {
   "cell_type": "code",
   "execution_count": 53,
   "metadata": {
    "collapsed": false
   },
   "outputs": [
    {
     "name": "stdout",
     "output_type": "stream",
     "text": [
      "49.9304838075\n",
      "22.5948066791\n",
      "0.725252904866\n"
     ]
    }
   ],
   "source": [
    "print(pca.explained_variance_ratio_[0]*100)\n",
    "print(pca.explained_variance_ratio_[1]*100)\n",
    "print(pca.explained_variance_ratio_[0] + pca.explained_variance_ratio_[1])"
   ]
  },
  {
   "cell_type": "code",
   "execution_count": 54,
   "metadata": {
    "collapsed": false
   },
   "outputs": [
    {
     "name": "stdout",
     "output_type": "stream",
     "text": [
      "9.78176110491\n",
      "4.8791091227\n",
      "0.871861607142\n"
     ]
    }
   ],
   "source": [
    "print(pca.explained_variance_ratio_[3]*100)\n",
    "print(pca.explained_variance_ratio_[4]*100)\n",
    "print(pca.explained_variance_ratio_[0] + pca.explained_variance_ratio_[1]+pca.explained_variance_ratio_[3]+pca.explained_variance_ratio_[4])"
   ]
  },
  {
   "cell_type": "markdown",
   "metadata": {},
   "source": [
    "**Answer:**\n",
    "By looking at the \"explained_variance_ratio\" attribute we can see which contributes the most. The first attribute is contributing to almost half the variance, approximatley  50% of it, and the second ctrontibure 22%. Combined the first and second contribute to most of the varience being .72.\n",
    "\n",
    "The next components (3,4) contribute significantly less at 9.78 and 4.89 repectively. They still play a part, but are not nearly as large of a factar as 1 and 2. The total for the first four components is 0.87.\n",
    "\n",
    "Given the figure above, the first dimension has greater importance on Detergencts, Grocery and Milk, which seem to be most correlated. The second dimesnion lessens the impact of these, and puts more importance of Fresh, Frozen , and Deli. The third dimension looks like low fresh and high deli are going together. The 4th is similar to the thiird, in high deli and low fresh are seen together. "
   ]
  },
  {
   "cell_type": "markdown",
   "metadata": {},
   "source": [
    "### Observation\n",
    "Run the code below to see how the log-transformed sample data has changed after having a PCA transformation applied to it in six dimensions. Observe the numerical value for the first four dimensions of the sample points. Consider if this is consistent with your initial interpretation of the sample points."
   ]
  },
  {
   "cell_type": "code",
   "execution_count": 55,
   "metadata": {
    "collapsed": false
   },
   "outputs": [
    {
     "ename": "NameError",
     "evalue": "name 'pca_results' is not defined",
     "output_type": "error",
     "traceback": [
      "\u001b[0;31m---------------------------------------------------------------------------\u001b[0m",
      "\u001b[0;31mNameError\u001b[0m                                 Traceback (most recent call last)",
      "\u001b[0;32m<ipython-input-55-0e580119e3d6>\u001b[0m in \u001b[0;36m<module>\u001b[0;34m()\u001b[0m\n\u001b[1;32m      1\u001b[0m \u001b[0;31m# Display sample log-data after having a PCA transformation applied\u001b[0m\u001b[0;34m\u001b[0m\u001b[0;34m\u001b[0m\u001b[0m\n\u001b[0;32m----> 2\u001b[0;31m \u001b[0mprint\u001b[0m\u001b[0;34m(\u001b[0m\u001b[0mpd\u001b[0m\u001b[0;34m.\u001b[0m\u001b[0mDataFrame\u001b[0m\u001b[0;34m(\u001b[0m\u001b[0mnp\u001b[0m\u001b[0;34m.\u001b[0m\u001b[0mround\u001b[0m\u001b[0;34m(\u001b[0m\u001b[0mpca_samples\u001b[0m\u001b[0;34m,\u001b[0m \u001b[0;36m4\u001b[0m\u001b[0;34m)\u001b[0m\u001b[0;34m,\u001b[0m \u001b[0mcolumns\u001b[0m \u001b[0;34m=\u001b[0m \u001b[0mpca_results\u001b[0m\u001b[0;34m.\u001b[0m\u001b[0mindex\u001b[0m\u001b[0;34m.\u001b[0m\u001b[0mvalues\u001b[0m\u001b[0;34m)\u001b[0m\u001b[0;34m)\u001b[0m\u001b[0;34m\u001b[0m\u001b[0m\n\u001b[0m",
      "\u001b[0;31mNameError\u001b[0m: name 'pca_results' is not defined"
     ]
    }
   ],
   "source": [
    "# Display sample log-data after having a PCA transformation applied\n",
    "print(pd.DataFrame(np.round(pca_samples, 4), columns = pca_results.index.values))"
   ]
  },
  {
   "cell_type": "markdown",
   "metadata": {},
   "source": [
    "### Implementation: Dimensionality Reduction\n",
    "When using principal component analysis, one of the main goals is to reduce the dimensionality of the data — in effect, reducing the complexity of the problem. Dimensionality reduction comes at a cost: Fewer dimensions used implies less of the total variance in the data is being explained. Because of this, the *cumulative explained variance ratio* is extremely important for knowing how many dimensions are necessary for the problem. Additionally, if a signifiant amount of variance is explained by only two or three dimensions, the reduced data can be visualized afterwards.\n",
    "\n",
    "In the code block below, you will need to implement the following:\n",
    " - Assign the results of fitting PCA in two dimensions with `good_data` to `pca`.\n",
    " - Apply a PCA transformation of `good_data` using `pca.transform`, and assign the reuslts to `reduced_data`.\n",
    " - Apply a PCA transformation of the sample log-data `log_samples` using `pca.transform`, and assign the results to `pca_samples`."
   ]
  },
  {
   "cell_type": "code",
   "execution_count": 56,
   "metadata": {
    "collapsed": false
   },
   "outputs": [],
   "source": [
    "# TODO: Apply PCA by fitting the good data with only two dimensions\n",
    "pca = PCA(n_components=2)\n",
    "pca.fit(good_data)\n",
    "\n",
    "# TODO: Transform the good data using the PCA fit above\n",
    "reduced_data = pca.transform(good_data)\n",
    "\n",
    "# TODO: Transform the sample log-data using the PCA fit above\n",
    "pca_samples = pca.transform(log_samples)\n",
    "\n",
    "# Create a DataFrame for the reduced data\n",
    "reduced_data = pd.DataFrame(reduced_data, columns = ['Dimension 1', 'Dimension 2'])"
   ]
  },
  {
   "cell_type": "markdown",
   "metadata": {},
   "source": [
    "### Observation\n",
    "Run the code below to see how the log-transformed sample data has changed after having a PCA transformation applied to it using only two dimensions. Observe how the values for the first two dimensions remains unchanged when compared to a PCA transformation in six dimensions."
   ]
  },
  {
   "cell_type": "code",
   "execution_count": 57,
   "metadata": {
    "collapsed": false
   },
   "outputs": [
    {
     "name": "stdout",
     "output_type": "stream",
     "text": [
      "   Dimension 1  Dimension 2\n",
      "0       1.7793      -0.6604\n",
      "1       3.4131       0.1632\n",
      "2      -1.9839       0.3526\n"
     ]
    }
   ],
   "source": [
    "# Display sample log-data after applying PCA transformation in two dimensions\n",
    "print(pd.DataFrame(np.round(pca_samples, 4), columns = ['Dimension 1', 'Dimension 2']))"
   ]
  },
  {
   "cell_type": "markdown",
   "metadata": {},
   "source": [
    "## Clustering\n",
    "\n",
    "In this section, you will choose to use either a K-Means clustering algorithm or a Gaussian Mixture Model clustering algorithm to identify the various customer segments hidden in the data. You will then recover specific data points from the clusters to understand their significance by transforming them back into their original dimension and scale. "
   ]
  },
  {
   "cell_type": "markdown",
   "metadata": {},
   "source": [
    "### Question 6\n",
    "*What are the advantages to using a K-Means clustering algorithm? What are the advantages to using a Gaussian Mixture Model clustering algorithm? Given your observations about the wholesale customer data so far, which of the two algorithms will you use and why?*"
   ]
  },
  {
   "cell_type": "markdown",
   "metadata": {},
   "source": [
    "**Answer:**\n",
    "Clustering is a techniques used to identify 'clusters' or groups of points in the data set. Allows you to visualize relatioship between points. The K-Means algorithm works in two steps, its assigns and optimizes. K Means optimizes by the min total quadratic distance of samples to the cluster center. K - Means chooses center randomly at the start, and then optimizes from there. The advantages to K - Means is that it is linearm, and very fast O(N). Workes well with circular data. A problem is that it starts with random choice, not very repeatable or conistsient. K Means is a local minimum algorithm. \n",
    "\n",
    "The guassian mixture model will assign probablilities to each point being in a spefic cluster, instead of assigning  a clear label. The problem with this algorithm is that it is not as easy or trivial as K Means, and is must higher cost. This algorithm relies on Expectation Maximization. Good for when you think there are hidden paramenters. \n",
    "\n",
    "I would go with K - Means Clustering, because I don't have any clear indications from the 'good_data' that say go with one or the other. I choose K - Means because it is easier to implement and understand. "
   ]
  },
  {
   "cell_type": "markdown",
   "metadata": {},
   "source": [
    "### Implementation: Creating Clusters\n",
    "Depending on the problem, the number of clusters that you expect to be in the data may already be known. When the number of clusters is not known *a priori*, there is no guarantee that a given number of clusters best segments the data, since it is unclear what structure exists in the data — if any. However, we can quantify the \"goodness\" of a clustering by calculating each data point's *silhouette coefficient*. The [silhouette coefficient](http://scikit-learn.org/stable/modules/generated/sklearn.metrics.silhouette_score.html) for a data point measures how similar it is to its assigned cluster from -1 (dissimilar) to 1 (similar). Calculating the *mean* silhouette coefficient provides for a simple scoring method of a given clustering.\n",
    "\n",
    "In the code block below, you will need to implement the following:\n",
    " - Fit a clustering algorithm to the `reduced_data` and assign it to `clusterer`.\n",
    " - Predict the cluster for each data point in `reduced_data` using `clusterer.predict` and assign them to `preds`.\n",
    " - Find the cluster centers using the algorithm's respective attribute and assign them to `centers`.\n",
    " - Predict the cluster for each sample data point in `pca_samples` and assign them `sample_preds`.\n",
    " - Import sklearn.metrics.silhouette_score and calculate the silhouette score of `reduced_data` against `preds`.\n",
    "   - Assign the silhouette score to `score` and print the result."
   ]
  },
  {
   "cell_type": "code",
   "execution_count": 58,
   "metadata": {
    "collapsed": false
   },
   "outputs": [
    {
     "name": "stdout",
     "output_type": "stream",
     "text": [
      "KMeans score 0.447157742293\n"
     ]
    }
   ],
   "source": [
    "from sklearn.cluster import KMeans\n",
    "# TODO: Apply your clustering algorithm of choice to the reduced data \n",
    "clusterer = KMeans(n_clusters=2, random_state=42)\n",
    "clusterer.fit(reduced_data)\n",
    "\n",
    "# TODO: Predict the cluster for each data point\n",
    "preds = clusterer.predict(reduced_data)\n",
    "\n",
    "# TODO: Find the cluster centers\n",
    "centers = clusterer.cluster_centers_\n",
    "\n",
    "# TODO: Predict the cluster for each transformed sample data point\n",
    "reduced_samples = pd.DataFrame(pca_samples, columns = ['Dimension 1', 'Dimension 2'])\n",
    "sample_preds = clusterer.predict(reduced_samples)\n",
    "\n",
    "# TODO: Calculate the mean silhouette coefficient for the number of clusters chosen\n",
    "from sklearn.metrics import silhouette_score\n",
    "score = silhouette_score(reduced_data, clusterer.labels_, metric='euclidean')\n",
    "print(\"KMeans score\", score)"
   ]
  },
  {
   "cell_type": "code",
   "execution_count": 59,
   "metadata": {
    "collapsed": false
   },
   "outputs": [],
   "source": [
    "# for i in range(2,7):\n",
    "#     clusterer = KMeans(n_clusters=i, random_state=42)\n",
    "#     clusterer.fit(reduced_data)\n",
    "\n",
    "#     # TODO: Predict the cluster for each data point\n",
    "#     preds = clusterer.predict(reduced_data)\n",
    "\n",
    "#     # TODO: Find the cluster centers\n",
    "#     centers = clusterer.cluster_centers_\n",
    "\n",
    "#     # TODO: Predict the cluster for each transformed sample data point\n",
    "#     reduced_samples = pd.DataFrame(pca_samples, columns = ['Dimension 1', 'Dimension 2'])\n",
    "#     sample_preds = clusterer.predict(reduced_samples)\n",
    "\n",
    "#     # TODO: Calculate the mean silhouette coefficient for the number of clusters chosen\n",
    "#     score = silhouette_score(reduced_data, clusterer.labels_, metric='euclidean')\n",
    "#     print(\"Clusters: \", i, \"KMeans score\", score)\n",
    "#Clusters:  2 KMeans score 0.447157742293\n",
    "#Clusters:  3 KMeans score 0.36398647984\n",
    "#Clusters:  4 KMeans score 0.331150954285\n",
    "#Clusters:  5 KMeans score 0.353193403287\n",
    "#Clusters:  6 KMeans score 0.363712346094"
   ]
  },
  {
   "cell_type": "markdown",
   "metadata": {},
   "source": [
    "### Question 7\n",
    "*Report the silhouette score for several cluster numbers you tried. Of these, which number of clusters has the best silhouette score?* "
   ]
  },
  {
   "cell_type": "markdown",
   "metadata": {},
   "source": [
    "**Answer:**\n",
    "In this reduced data set, 2 clusters had the best silhouette score. I tried up to six, and scores were lower that 2 clusters. "
   ]
  },
  {
   "cell_type": "markdown",
   "metadata": {},
   "source": [
    "### Cluster Visualization\n",
    "Once you've chosen the optimal number of clusters for your clustering algorithm using the scoring metric above, you can now visualize the results by executing the code block below. Note that, for experimentation purposes, you are welcome to adjust the number of clusters for your clustering algorithm to see various visualizations. The final visualization provided should, however, correspond with the optimal number of clusters. "
   ]
  },
  {
   "cell_type": "code",
   "execution_count": 60,
   "metadata": {
    "collapsed": false
   },
   "outputs": [
    {
     "ename": "NameError",
     "evalue": "name 'rs' is not defined",
     "output_type": "error",
     "traceback": [
      "\u001b[0;31m---------------------------------------------------------------------------\u001b[0m",
      "\u001b[0;31mNameError\u001b[0m                                 Traceback (most recent call last)",
      "\u001b[0;32m<ipython-input-60-ae79d75dadc6>\u001b[0m in \u001b[0;36m<module>\u001b[0;34m()\u001b[0m\n\u001b[1;32m      1\u001b[0m \u001b[0;31m# Display the results of the clustering from implementation\u001b[0m\u001b[0;34m\u001b[0m\u001b[0;34m\u001b[0m\u001b[0m\n\u001b[0;32m----> 2\u001b[0;31m \u001b[0mrs\u001b[0m\u001b[0;34m.\u001b[0m\u001b[0mcluster_results\u001b[0m\u001b[0;34m(\u001b[0m\u001b[0mreduced_data\u001b[0m\u001b[0;34m,\u001b[0m \u001b[0mpreds\u001b[0m\u001b[0;34m,\u001b[0m \u001b[0mcenters\u001b[0m\u001b[0;34m,\u001b[0m \u001b[0mpca_samples\u001b[0m\u001b[0;34m)\u001b[0m\u001b[0;34m\u001b[0m\u001b[0m\n\u001b[0m",
      "\u001b[0;31mNameError\u001b[0m: name 'rs' is not defined"
     ]
    }
   ],
   "source": [
    "# Display the results of the clustering from implementation\n",
    "rs.cluster_results(reduced_data, preds, centers, pca_samples)"
   ]
  },
  {
   "cell_type": "markdown",
   "metadata": {},
   "source": [
    "### Implementation: Data Recovery\n",
    "Each cluster present in the visualization above has a central point. These centers (or means) are not specifically data points from the data, but rather the *averages* of all the data points predicted in the respective clusters. For the problem of creating customer segments, a cluster's center point corresponds to *the average customer of that segment*. Since the data is currently reduced in dimension and scaled by a logarithm, we can recover the representative customer spending from these data points by applying the inverse transformations.\n",
    "\n",
    "In the code block below, you will need to implement the following:\n",
    " - Apply the inverse transform to `centers` using `pca.inverse_transform` and assign the new centers to `log_centers`.\n",
    " - Apply the inverse function of `np.log` to `log_centers` using `np.exp` and assign the true centers to `true_centers`.\n"
   ]
  },
  {
   "cell_type": "code",
   "execution_count": 61,
   "metadata": {
    "collapsed": false
   },
   "outputs": [
    {
     "name": "stdout",
     "output_type": "stream",
     "text": [
      "            Fresh    Milk  Grocery  Frozen  Detergents_Paper  Delicatessen\n",
      "Segment 0  9451.0  1938.0   2449.0  2200.0             307.0         771.0\n",
      "Segment 1  5424.0  7780.0  11532.0  1123.0            4444.0        1136.0\n"
     ]
    }
   ],
   "source": [
    "# TODO: Inverse transform the centers\n",
    "log_centers = pca.inverse_transform(centers)\n",
    "\n",
    "# TODO: Exponentiate the centers\n",
    "true_centers = np.exp(log_centers)\n",
    "\n",
    "# Display the true centers\n",
    "segments = ['Segment {}'.format(i) for i in range(0,len(centers))]\n",
    "true_centers = pd.DataFrame(np.round(true_centers), columns = df.keys())\n",
    "true_centers.index = segments\n",
    "print(true_centers)"
   ]
  },
  {
   "cell_type": "code",
   "execution_count": 62,
   "metadata": {
    "collapsed": false
   },
   "outputs": [
    {
     "data": {
      "text/html": [
       "<div>\n",
       "<table border=\"1\" class=\"dataframe\">\n",
       "  <thead>\n",
       "    <tr style=\"text-align: right;\">\n",
       "      <th></th>\n",
       "      <th>Fresh</th>\n",
       "      <th>Milk</th>\n",
       "      <th>Grocery</th>\n",
       "      <th>Frozen</th>\n",
       "      <th>Detergents_Paper</th>\n",
       "      <th>Delicatessen</th>\n",
       "    </tr>\n",
       "  </thead>\n",
       "  <tbody>\n",
       "    <tr>\n",
       "      <th>Segment 0</th>\n",
       "      <td>9.153876</td>\n",
       "      <td>7.569412</td>\n",
       "      <td>7.803435</td>\n",
       "      <td>7.696213</td>\n",
       "      <td>5.726848</td>\n",
       "      <td>6.647688</td>\n",
       "    </tr>\n",
       "    <tr>\n",
       "      <th>Segment 1</th>\n",
       "      <td>8.598589</td>\n",
       "      <td>8.959312</td>\n",
       "      <td>9.352881</td>\n",
       "      <td>7.023759</td>\n",
       "      <td>8.399310</td>\n",
       "      <td>7.035269</td>\n",
       "    </tr>\n",
       "  </tbody>\n",
       "</table>\n",
       "</div>"
      ],
      "text/plain": [
       "              Fresh      Milk   Grocery    Frozen  Detergents_Paper  \\\n",
       "Segment 0  9.153876  7.569412  7.803435  7.696213          5.726848   \n",
       "Segment 1  8.598589  8.959312  9.352881  7.023759          8.399310   \n",
       "\n",
       "           Delicatessen  \n",
       "Segment 0      6.647688  \n",
       "Segment 1      7.035269  "
      ]
     },
     "execution_count": 62,
     "metadata": {},
     "output_type": "execute_result"
    }
   ],
   "source": [
    "np.log(true_centers)"
   ]
  },
  {
   "cell_type": "markdown",
   "metadata": {
    "collapsed": false
   },
   "source": [
    "### Question 8\n",
    "Consider the total purchase cost of each product category for the representative data points above, and reference the statistical description of the dataset at the beginning of this project. *What set of establishments could each of the customer segments represent?*  \n",
    "**Hint:** A customer who is assigned to `'Cluster X'` should best identify with the establishments represented by the feature set of `'Segment X'`."
   ]
  },
  {
   "cell_type": "markdown",
   "metadata": {},
   "source": [
    "**Answer:**\n",
    "After data analysis, it seems the results give a more clear idea of what the customers purchase. Now We can see that customers that buy alot of Fresh, don't buy alot of Detergents_Papper, but ones that buy milk, grocery, seem to buy more detergent and papper.  \n",
    "Segement 0 could be a market, or a small fresh food store. \n",
    "Segement 1 is probably a cafe or coffee shop as it spends alot on Milk and DEtergemnts relative to othere segement. "
   ]
  },
  {
   "cell_type": "markdown",
   "metadata": {
    "collapsed": false
   },
   "source": [
    "### Question 9\n",
    "*For each sample point, which customer segment from* ***Question 8*** *best represents it? Are the predictions for each sample point consistent with this?*\n",
    "\n",
    "Run the code block below to find which cluster each sample point is predicted to be."
   ]
  },
  {
   "cell_type": "code",
   "execution_count": 63,
   "metadata": {
    "collapsed": false
   },
   "outputs": [
    {
     "name": "stdout",
     "output_type": "stream",
     "text": [
      "Sample point 0 predicted to be in Cluster 1\n",
      "Sample point 1 predicted to be in Cluster 1\n",
      "Sample point 2 predicted to be in Cluster 0\n"
     ]
    }
   ],
   "source": [
    "# Display the predictions\n",
    "for i, pred in enumerate(sample_preds):\n",
    "    print(\"Sample point\", i, \"predicted to be in Cluster\", pred)"
   ]
  },
  {
   "cell_type": "markdown",
   "metadata": {
    "collapsed": false
   },
   "source": [
    "**Answer:**\n",
    "My initial predictions of market, restaurant, market for this customer respectivelly, were not too far off, but are more refined one isntead of guessing between many options. They are narrowed down to two customer segemnts. \n",
    "\n",
    "From above:\n",
    "\n",
    "      Fresh      Milk    Grocery    Frozen  Detergents_Paper  Delicatessen\n",
    "0  9.446913  9.175335   8.930759  5.365976          7.891331      7.198931\n",
    "1  9.409601  9.449121  10.259062  6.767343          9.395491      6.916715\n",
    "2  9.175542  7.687997   7.554335  8.637462          5.370638      5.777652\n",
    "\n",
    "\tFresh\tMilk\tGrocery\tFrozen\tDetergents_Paper\tDelicatessen\n",
    "Segment 0\t9.153876\t7.569412\t7.803435\t7.696213\t5.726848\t6.647688\n",
    "Segment 1\t8.598589\t8.959312\t9.352881\t7.023759\t8.399310\t7.035269\n",
    "\n",
    "As seen above at the start, the initial predictions of the samples would fall within the origional predictions. "
   ]
  },
  {
   "cell_type": "markdown",
   "metadata": {},
   "source": [
    "## Conclusion"
   ]
  },
  {
   "cell_type": "markdown",
   "metadata": {},
   "source": [
    "In this final section, you will investigate ways that you can make use of the clustered data. First, you will consider how the different groups of customers, the ***customer segments***, may be affected differently by a specific delivery scheme. Next, you will consider how giving a label to each customer (which *segment* that customer belongs to) can provide for additional features about the customer data. Finally, you will compare the ***customer segments*** to a hidden variable present in the data, to see whether the clustering identified certain relationships."
   ]
  },
  {
   "cell_type": "markdown",
   "metadata": {
    "collapsed": true
   },
   "source": [
    "### Question 10\n",
    "Companies will often run [A/B tests](https://en.wikipedia.org/wiki/A/B_testing) when making small changes to their products or services to determine whether making that change will affect its customers positively or negatively. The wholesale distributor is considering changing its delivery service from currently 5 days a week to 3 days a week. However, the distributor will only make this change in delivery service for customers that react positively. *How can the wholesale distributor use the customer segments to determine which customers, if any, would reach positively to the change in delivery service?*  \n",
    "**Hint:** Can we assume the change affects all customers equally? How can we determine which group of customers it affects the most?"
   ]
  },
  {
   "cell_type": "markdown",
   "metadata": {},
   "source": [
    "**Answer:**\n",
    "My recomendations would be different based on the segemnts. Obviously, Segement 0 spends alot of money on fresh food, therefore the 3 day delievry service would not be ideal as, fresh food is very important to be delivered everyday. These customers have a high chance of reacting negativly to this change. \n",
    "\n",
    "Although segment 1, is much less likely to be affect by this change as much less of thier spending is on fresh, and more on other item that arn't necessarily affacted by time. \n",
    "\n",
    "Based on the above results, AB testing can be used by trying the new deliverty system with system, and not on segement 0 and see how the change affects. Based on the clusters, we would think that the change would negativelty effect segemnt 1, and indifferently affter segment 2. Cost can be saved with segment 2, but segment 1 might reutrns might outweight the benefit. "
   ]
  },
  {
   "cell_type": "markdown",
   "metadata": {},
   "source": [
    "### Question 11\n",
    "Additional structure is derived from originally unlabeled data when using clustering techniques. Since each customer has a ***customer segment*** it best identifies with (depending on the clustering algorithm applied), we can consider *'customer segment'* as an **engineered feature** for the data. Assume the wholesale distributor recently acquired ten new customers and each provided estimates for anticipated annual spending of each product category. Knowing these estimates, the wholesale distributor wants to classify each new customer to a ***customer segment*** to determine the most appropriate delivery service.  \n",
    "*How can the wholesale distributor label the new customers using only their estimated product spending and the* ***customer segment*** *data?*  \n",
    "**Hint:** A supervised learner could be used to train on the original customers. What would be the target variable?"
   ]
  },
  {
   "cell_type": "markdown",
   "metadata": {},
   "source": [
    "**Answer:**\n",
    "Either the distribute can run the traning and algorithm again to assign labels to the new customers. Or based off of previously results, the distributor can assign the customers into segments based off what other similar customers already in the database. "
   ]
  },
  {
   "cell_type": "markdown",
   "metadata": {},
   "source": [
    "### Visualizing Underlying Distributions\n",
    "\n",
    "At the beginning of this project, it was discussed that the `'Channel'` and `'Region'` features would be excluded from the dataset so that the customer product categories were emphasized in the analysis. By reintroducing the `'Channel'` feature to the dataset, an interesting structure emerges when considering the same PCA dimensionality reduction applied earlier to the original dataset.\n",
    "\n",
    "Run the code block below to see how each data point is labeled either `'HoReCa'` (Hotel/Restaurant/Cafe) or `'Retail'` the reduced space. In addition, you will find the sample points are circled in the plot, which will identify their labeling."
   ]
  },
  {
   "cell_type": "code",
   "execution_count": null,
   "metadata": {
    "collapsed": false,
    "scrolled": false
   },
   "outputs": [],
   "source": [
    "# Display the clustering results based on 'Channel' data\n",
    "rs.channel_results(reduced_data, outliers, pca_samples)"
   ]
  },
  {
   "cell_type": "markdown",
   "metadata": {},
   "source": [
    "### Question 12\n",
    "*How well does the clustering algorithm and number of clusters you've chosen compare to this underlying distribution of Hotel/Restaurant/Cafe customers to Retailer customers? Are there customer segments that would be classified as purely 'Retailers' or 'Hotels/Restaurants/Cafes' by this distribution? Would you consider these classifications as consistent with your previous definition of the customer segments?*"
   ]
  },
  {
   "cell_type": "markdown",
   "metadata": {},
   "source": [
    "**Answer:**\n",
    "It seems there is good relevenace and conistsnt with my previous definition of customer segments. Alghough it is not exact, it adds to what I thought about the customer segments. "
   ]
  },
  {
   "cell_type": "markdown",
   "metadata": {},
   "source": [
    "> **Note**: Once you have completed all of the code implementations and successfully answered each question above, you may finalize your work by exporting the iPython Notebook as an HTML document. You can do this by using the menu above and navigating to  \n",
    "**File -> Download as -> HTML (.html)**. Include the finished document along with this notebook as your submission."
   ]
  }
 ],
 "metadata": {
  "kernelspec": {
   "display_name": "Python 3",
   "language": "python",
   "name": "python3"
  },
  "language_info": {
   "codemirror_mode": {
    "name": "ipython",
    "version": 3
   },
   "file_extension": ".py",
   "mimetype": "text/x-python",
   "name": "python",
   "nbconvert_exporter": "python",
   "pygments_lexer": "ipython3",
   "version": "3.5.1"
  }
 },
 "nbformat": 4,
 "nbformat_minor": 0
}
